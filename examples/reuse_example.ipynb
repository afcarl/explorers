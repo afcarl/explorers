{
 "metadata": {
  "name": "",
  "signature": "sha256:340b256e51edacb52b0fdd84c747bf61b95a3365a3813b7c02a3632cb75d8974"
 },
 "nbformat": 3,
 "nbformat_minor": 0,
 "worksheets": [
  {
   "cells": [
    {
     "cell_type": "heading",
     "level": 1,
     "metadata": {},
     "source": [
      "The Effect of the Reuse Algorithm"
     ]
    },
    {
     "cell_type": "markdown",
     "metadata": {},
     "source": [
      "This is a example of the reuse algorithm with two-dimensional arms."
     ]
    },
    {
     "cell_type": "code",
     "collapsed": false,
     "input": [
      "# comment this for different results\n",
      "import random\n",
      "random.seed(0)"
     ],
     "language": "python",
     "metadata": {},
     "outputs": []
    },
    {
     "cell_type": "heading",
     "level": 2,
     "metadata": {},
     "source": [
      "Exploration of the First Arm"
     ]
    },
    {
     "cell_type": "markdown",
     "metadata": {},
     "source": [
      "We instanciate a first arm with 20 segments of the same lenghts, with a total length of one meter."
     ]
    },
    {
     "cell_type": "code",
     "collapsed": false,
     "input": [
      "import environments.envs\n",
      "\n",
      "ARM_DIM = 20\n",
      "\n",
      "arm1_cfg = environments.envs.KinematicArm2D.defcfg._deepcopy()\n",
      "arm1_cfg.dim = ARM_DIM\n",
      "arm1_cfg.lengths = 1.0/arm1_cfg.dim\n",
      "\n",
      "arm1 = environments.Environment.create(arm1_cfg)"
     ],
     "language": "python",
     "metadata": {},
     "outputs": []
    },
    {
     "cell_type": "markdown",
     "metadata": {},
     "source": [
      "We create a goal babbling explorer that starts doing 10 random motor babbling exploration, and then does the 1990 following one by goal babbling."
     ]
    },
    {
     "cell_type": "code",
     "collapsed": false,
     "input": [
      "import explorers\n",
      "\n",
      "MB_ERA = 50\n",
      "\n",
      "ex1_cfg         = explorers.MetaExplorer.defcfg._deepcopy()\n",
      "ex1_cfg.m_channels = arm1.m_channels\n",
      "ex1_cfg.s_channels = arm1.s_channels\n",
      "\n",
      "# two sub-explorer, motor babbling and goal babbling.\n",
      "ex1_cfg.ex_0    = explorers.RandomMotorExplorer.defcfg._deepcopy()\n",
      "ex1_cfg.ex_1    = explorers.RandomGoalExplorer.defcfg._deepcopy()\n",
      "# the motor babbling eras ends at 50, the goal babbling never stops\n",
      "ex1_cfg.eras    = (MB_ERA, None)\n",
      "# the first sub-explorer is always used in the first eras, never in the second.\n",
      "ex1_cfg.weights = ((1.0, 0.0), (0.0, 1.0))"
     ],
     "language": "python",
     "metadata": {},
     "outputs": []
    },
    {
     "cell_type": "markdown",
     "metadata": {},
     "source": [
      "The goal babbling explorer needs an inverse model. We use a very simple one. Given a goal (i.e. a sensory signal), we find the nearest sensory signal in recorded observations, and then add a small random perturbation to its corresponding motor command to create a new motor command that we return. \n",
      "\n",
      "Here the perturbation is drawn between 5% of the legal value range of the motor channels."
     ]
    },
    {
     "cell_type": "code",
     "collapsed": false,
     "input": [
      "import learners\n",
      "\n",
      "learn_cfg = learners.DisturbLearner.defcfg._deepcopy()\n",
      "learn_cfg.m_disturb = 0.05\n",
      "ex1_cfg.ex_1.learner = learn_cfg\n",
      "\n",
      "ex1 = explorers.Explorer.create(ex1_cfg)"
     ],
     "language": "python",
     "metadata": {},
     "outputs": []
    },
    {
     "cell_type": "markdown",
     "metadata": {},
     "source": [
      "We run the exploration policy for 2000 steps"
     ]
    },
    {
     "cell_type": "code",
     "collapsed": false,
     "input": [
      "N = 2000\n",
      "\n",
      "arm1_expls = []\n",
      "for i in range(N):\n",
      "    exploration = ex1.explore()\n",
      "    feedback    = arm1.execute(exploration['m_signal'])\n",
      "    ex1.receive(exploration, feedback)\n",
      "    arm1_expls.append((exploration, feedback))\n",
      "    \n",
      "arm1_dataset = {'m_channels'  : arm1.m_channels,\n",
      "                's_channels'  : arm1.s_channels,\n",
      "                'explorations': arm1_expls}"
     ],
     "language": "python",
     "metadata": {},
     "outputs": []
    },
    {
     "cell_type": "markdown",
     "metadata": {},
     "source": [
      "We show the scatter plot of the effects at time 200, 400, and 2000. "
     ]
    },
    {
     "cell_type": "code",
     "collapsed": false,
     "input": [
      "from bokeh import plotting\n",
      "\n",
      "plotting.output_notebook()"
     ],
     "language": "python",
     "metadata": {},
     "outputs": []
    },
    {
     "cell_type": "code",
     "collapsed": false,
     "input": [
      "arm1_xs = [e[1]['s_signal']['x'] for e in arm1_dataset['explorations']]\n",
      "arm1_ys = [e[1]['s_signal']['y'] for e in arm1_dataset['explorations']]\n",
      "\n",
      "def plot1(n=200):\n",
      "    plotting.figure(title='arm1, {} steps'.format(n))\n",
      "    plotting.scatter(arm1_xs[:n], arm1_ys[:n], \n",
      "                     x_range=[-1, 1], y_range=[-1, 1],\n",
      "                     fill_alpha= 0.5, line_color=None, radius=2.0, radius_units='screen')\n",
      "    plotting.show()\n"
     ],
     "language": "python",
     "metadata": {},
     "outputs": []
    },
    {
     "cell_type": "code",
     "collapsed": false,
     "input": [
      "from IPython.html import widgets \n",
      "\n",
      "widgets.interact(plot1, n=(0, 2000, 5))"
     ],
     "language": "python",
     "metadata": {},
     "outputs": []
    },
    {
     "cell_type": "heading",
     "level": 2,
     "metadata": {},
     "source": [
      "Exploration of the Second Arm"
     ]
    },
    {
     "cell_type": "markdown",
     "metadata": {},
     "source": [
      "We instanciate the second arm. Each segment is 0.9 shorter than the previous one, but the total length is still one meter."
     ]
    },
    {
     "cell_type": "code",
     "collapsed": false,
     "input": [
      "arm2_cfg = environments.envs.KinematicArm2D.defcfg._deepcopy()\n",
      "arm2_cfg.dim = ARM_DIM\n",
      "arm2_cfg.lengths = [0.9**i for i in range(arm2_cfg.dim)]\n",
      "arm2_cfg.lengths = [s/sum(arm2_cfg.lengths) for s in arm2_cfg.lengths]\n",
      "\n",
      "arm2 = environments.Environment.create(arm2_cfg)"
     ],
     "language": "python",
     "metadata": {},
     "outputs": []
    },
    {
     "cell_type": "markdown",
     "metadata": {},
     "source": [
      "If executing the same motor commands, the two arms's end-effector position is most of the time different."
     ]
    },
    {
     "cell_type": "code",
     "collapsed": false,
     "input": [
      "plotting.figure(title='arm motor commands examples')\n",
      "\n",
      "from arm_vizu import bokeh_kin\n",
      "\n",
      "# some sample motor signals\n",
      "m_signals = [\n",
      "    {'j0': -31.23, 'j1': -44.21, 'j2': -20.18, 'j3': +31.55, 'j4': +35.66, 'j5':  +5.19, 'j6': +17.34, 'j7': +24.51, 'j8':  -2.69, 'j9': +26.52, 'j10': -34.87, 'j11': +10.72, 'j12': -19.38, 'j13': -33.49, 'j14': +13.78, 'j15': -22.43, 'j16': +33.61, 'j17': -28.95, 'j18': +34.31, 'j19':   45.75},\n",
      "    {'j0': -53.66, 'j1': -56.20, 'j2': -56.67, 'j3': -34.83, 'j4': -20.29, 'j5':  +7.51, 'j6': +20.92, 'j7': +25.51, 'j8': -17.59, 'j9':  +6.51, 'j10':  -9.65, 'j11': +45.70, 'j12': +20.88, 'j13': +24.25, 'j14': +28.65, 'j15': -42.79, 'j16': +34.45, 'j17': -39.90, 'j18':  +2.74, 'j19':  -11.12},\n",
      "    {'j0': +58.13, 'j1': +45.43, 'j2': -21.01, 'j3':  +2.35, 'j4': -38.90, 'j5': -39.23, 'j6': +45.14, 'j7': -57.58, 'j8': +39.49, 'j9': +29.01, 'j10':  -0.09, 'j11': -56.19, 'j12': +56.07, 'j13':  +5.91, 'j14': +36.61, 'j15': -52.65, 'j16': -58.60, 'j17': +32.45, 'j18': +43.69, 'j19': -120.77},\n",
      "    {'j0': +53.09, 'j1': +55.83, 'j2': -51.08, 'j3': +41.44, 'j4': +44.43, 'j5':  +4.67, 'j6':  +2.15, 'j7': +37.23, 'j8':  -3.77, 'j9': -46.70, 'j10': +56.41, 'j11': -21.08, 'j12': +13.73, 'j13': +47.23, 'j14':  +7.94, 'j15': -27.26, 'j16': +56.54, 'j17':  -7.77, 'j18': -18.98, 'j19': +149.46}\n",
      "]\n",
      "\n",
      "for i, m_signal in enumerate(m_signals):\n",
      "#     bokeh_kin(arm1, m_signal, alpha=0.2 + i*0.15)\n",
      "#     plotting.hold(True)\n",
      "    bokeh_kin(arm2, m_signal, color='#91C46C', alpha=0.2 + i*0.15)\n",
      "    plotting.hold(True)\n",
      "\n",
      "plotting.show()"
     ],
     "language": "python",
     "metadata": {},
     "outputs": []
    },
    {
     "cell_type": "markdown",
     "metadata": {},
     "source": [
      "We instanciate the *reuse* explorer."
     ]
    },
    {
     "cell_type": "code",
     "collapsed": false,
     "input": [
      "ex2_cfg                = explorers.MetaExplorer.defcfg._deepcopy()\n",
      "ex2_cfg.m_channels     = arm2.m_channels\n",
      "ex2_cfg.s_channels     = arm2.s_channels\n",
      "\n",
      "ex2_cfg.eras           = (MB_ERA, None)\n",
      "ex2_cfg.weights        = ((1.0, 0.0), (0.0, 1.0))\n",
      "\n",
      "ex2_cfg.ex_0           = explorers.ReuseExplorer.defcfg._deepcopy()\n",
      "ex2_cfg.ex_0.reuse.res = 20 # the resolution of the meshgrid for reuse\n",
      "ex2_cfg.ex_0.learner   = learn_cfg\n",
      "\n",
      "ex2_cfg.ex_1           = explorers.RandomGoalExplorer.defcfg._deepcopy()\n",
      "ex2_cfg.ex_1.learner   = learn_cfg\n",
      "\n",
      "ex2 = explorers.Explorer.create(ex2_cfg, datasets=[arm1_dataset])"
     ],
     "language": "python",
     "metadata": {},
     "outputs": []
    },
    {
     "cell_type": "code",
     "collapsed": false,
     "input": [
      "arm2_expls = []\n",
      "for i in range(N):\n",
      "    exploration = ex2.explore()\n",
      "    feedback    = arm2.execute(exploration['m_signal'])\n",
      "    ex2.receive(exploration, feedback)\n",
      "    arm2_expls.append((exploration, feedback))\n",
      "    \n",
      "arm2_dataset = {'m_channels'  : arm2.m_channels,\n",
      "                's_channels'  : arm2.s_channels,\n",
      "                'explorations': arm2_expls}"
     ],
     "language": "python",
     "metadata": {},
     "outputs": []
    },
    {
     "cell_type": "code",
     "collapsed": false,
     "input": [
      "arm2_xs = [e[1]['s_signal']['x'] for e in arm2_dataset['explorations']]\n",
      "arm2_ys = [e[1]['s_signal']['y'] for e in arm2_dataset['explorations']]"
     ],
     "language": "python",
     "metadata": {},
     "outputs": []
    },
    {
     "cell_type": "code",
     "collapsed": false,
     "input": [
      "def plot2(n=200):\n",
      "    plotting.figure(title='arm2 with reuse, {} steps'.format(n))\n",
      "    plotting.scatter(arm2_xs[:n], arm2_ys[:n], \n",
      "                     x_range=[-1, 1], y_range=[-1, 1],\n",
      "                     fill_alpha=0.5, line_color=None, radius=2.0, radius_units='screen')\n",
      "    plotting.show()\n",
      "\n",
      "widgets.interact(plot2, n=(0, N, 5))"
     ],
     "language": "python",
     "metadata": {},
     "outputs": []
    },
    {
     "cell_type": "markdown",
     "metadata": {},
     "source": [
      "The effects transferred between step 0 and 50 cover the reachable space much better than random goal babbling could. "
     ]
    }
   ],
   "metadata": {}
  }
 ]
}