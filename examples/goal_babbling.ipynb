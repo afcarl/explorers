{
 "metadata": {
  "name": "",
  "signature": "sha256:3e358fbddeba341b5964326effec80037eaf767b202eb34e048d1002fd0b9329"
 },
 "nbformat": 3,
 "nbformat_minor": 0,
 "worksheets": [
  {
   "cells": [
    {
     "cell_type": "heading",
     "level": 1,
     "metadata": {},
     "source": [
      "Goal Babbling versus Motor Babbling"
     ]
    },
    {
     "cell_type": "markdown",
     "metadata": {},
     "source": [
      "Here we show the difference between motor and goal babbling exploration strategies on a idealized two-dimensional arm example."
     ]
    },
    {
     "cell_type": "heading",
     "level": 2,
     "metadata": {},
     "source": [
      "Two-Dimensional Arm"
     ]
    },
    {
     "cell_type": "markdown",
     "metadata": {},
     "source": [
      "We consider a two-dimensional arm with 20 segments of the same lenghts, with a total length of one meter. The range of angles the joint can achieve is [-150, 150] degrees."
     ]
    },
    {
     "cell_type": "code",
     "collapsed": false,
     "input": [
      "import environments.envs\n",
      "\n",
      "# we copy the default configuration of a 2d kinematic arm and set its parameters\n",
      "arm_cfg = environments.envs.KinematicArm2D.defcfg._deepcopy()\n",
      "arm_cfg.dim     = 20\n",
      "arm_cfg.lengths = 1.0/arm_cfg.dim\n",
      "arm_cfg.limits  = (-150, 150)\n",
      "\n",
      "arm = environments.Environment.create(arm_cfg)"
     ],
     "language": "python",
     "metadata": {},
     "outputs": []
    },
    {
     "cell_type": "code",
     "collapsed": false,
     "input": [
      "# Loading the bokeh plotting library\n",
      "from bokeh import plotting\n",
      "plotting.output_notebook()"
     ],
     "language": "python",
     "metadata": {},
     "outputs": []
    },
    {
     "cell_type": "code",
     "collapsed": false,
     "input": [
      "from arm_vizu import bokeh_kin \n",
      "\n",
      "plotting.figure(title='arm motor commands examples')\n",
      "\n",
      "# some sample motor signals\n",
      "m_signals = [\n",
      "    {'j0': -31.23, 'j1': -44.21, 'j2': -20.18, 'j3': +31.55, 'j4': +35.66, 'j5':  +5.19, 'j6': +17.34, 'j7': +24.51, 'j8':  -2.69, 'j9': +26.52, 'j10': -34.87, 'j11': +10.72, 'j12': -19.38, 'j13': -33.49, 'j14': +13.78, 'j15': -22.43, 'j16': +33.61, 'j17': -28.95, 'j18': +34.31, 'j19':   45.75},\n",
      "    {'j0': -53.66, 'j1': -56.20, 'j2': -56.67, 'j3': -34.83, 'j4': -20.29, 'j5':  +7.51, 'j6': +20.92, 'j7': +25.51, 'j8': -17.59, 'j9':  +6.51, 'j10':  -9.65, 'j11': +45.70, 'j12': +20.88, 'j13': +24.25, 'j14': +28.65, 'j15': -42.79, 'j16': +34.45, 'j17': -39.90, 'j18':  +2.74, 'j19':  -11.12},\n",
      "    {'j0': +58.13, 'j1': +45.43, 'j2': -21.01, 'j3':  +2.35, 'j4': -38.90, 'j5': -39.23, 'j6': +45.14, 'j7': -57.58, 'j8': +39.49, 'j9': +29.01, 'j10':  -0.09, 'j11': -56.19, 'j12': +56.07, 'j13':  +5.91, 'j14': +36.61, 'j15': -52.65, 'j16': -58.60, 'j17': +32.45, 'j18': +43.69, 'j19': -120.77},\n",
      "    {'j0': +53.09, 'j1': +55.83, 'j2': -51.08, 'j3': +41.44, 'j4': +44.43, 'j5':  +4.67, 'j6':  +2.15, 'j7': +37.23, 'j8':  -3.77, 'j9': -46.70, 'j10': +56.41, 'j11': -21.08, 'j12': +13.73, 'j13': +47.23, 'j14':  +7.94, 'j15': -27.26, 'j16': +56.54, 'j17':  -7.77, 'j18': -18.98, 'j19': +149.46}\n",
      "]\n",
      "\n",
      "for i, m_signal in enumerate(m_signals):\n",
      "    bokeh_kin(arm, m_signal, alpha=0.2 + i*0.15)\n",
      "    plotting.hold(True)\n",
      "\n",
      "plotting.show()"
     ],
     "language": "python",
     "metadata": {},
     "outputs": []
    },
    {
     "cell_type": "heading",
     "level": 2,
     "metadata": {},
     "source": [
      "Motor Babbling"
     ]
    },
    {
     "cell_type": "markdown",
     "metadata": {},
     "source": [
      "To create a random motor babbling explorer, we only need the motor channels."
     ]
    },
    {
     "cell_type": "code",
     "collapsed": false,
     "input": [
      "import explorers\n",
      "\n",
      "mb_cfg = explorers.RandomMotorExplorer.defcfg._deepcopy()\n",
      "mb_cfg.m_channels = arm.m_channels\n",
      "\n",
      "mb_ex  = explorers.Explorer.create(mb_cfg)"
     ],
     "language": "python",
     "metadata": {},
     "outputs": []
    },
    {
     "cell_type": "markdown",
     "metadata": {},
     "source": [
      "We run the exploration strategy for 5000 timesteps."
     ]
    },
    {
     "cell_type": "code",
     "collapsed": false,
     "input": [
      "import random\n",
      "\n",
      "random.seed(0) # comment for different results\n",
      "N = 5000\n",
      "mb_s_signals = []\n",
      "\n",
      "for i in range(N):\n",
      "    # creating the motor command\n",
      "    exploration = mb_ex.explore()\n",
      "    # executing the motor command\n",
      "    feedback    = arm.execute(exploration['m_signal'])\n",
      "    # updating the explorer with the feedback\n",
      "    mb_ex.receive(exploration, feedback)\n",
      "    mb_s_signals.append(feedback['s_signal'])"
     ],
     "language": "python",
     "metadata": {},
     "outputs": []
    },
    {
     "cell_type": "code",
     "collapsed": false,
     "input": [
      "mb_xs = [s_signal['x'] for s_signal in mb_s_signals]\n",
      "mb_ys = [s_signal['y'] for s_signal in mb_s_signals]\n",
      "\n",
      "def mb_plot(n=200):\n",
      "    plotting.figure(title='motor babbling, {} steps'.format(n))\n",
      "    plotting.scatter(mb_xs[:n], mb_ys[:n], \n",
      "                     x_range=[-1, 1], y_range=[-1, 1],\n",
      "                     fill_alpha= 0.5, line_color=None, radius=2.0, radius_units='screen')\n",
      "    plotting.show()"
     ],
     "language": "python",
     "metadata": {},
     "outputs": []
    },
    {
     "cell_type": "code",
     "collapsed": false,
     "input": [
      "from IPython.html import widgets \n",
      "\n",
      "widgets.interact(mb_plot, n=(0, 5000, 5))"
     ],
     "language": "python",
     "metadata": {},
     "outputs": []
    },
    {
     "cell_type": "markdown",
     "metadata": {},
     "source": [
      "The motor babblign exploration trajectory remains concentrated in the center of reachable space."
     ]
    },
    {
     "cell_type": "heading",
     "level": 2,
     "metadata": {},
     "source": [
      "Goal Babbling"
     ]
    },
    {
     "cell_type": "markdown",
     "metadata": {},
     "source": [
      "The explorer for goal babbling is a bit more complex, as it combines a motor babbling explorer, used to bootstrap the exploration (here for 50 timesteps), and a pure goal babbling explorer. We use the class `MetaExplorer` to combine the two and orchestrate them in time. "
     ]
    },
    {
     "cell_type": "code",
     "collapsed": false,
     "input": [
      "STEP_ERA1 = 50  # number of motor babbling steps\n",
      "P_MB_ERA1 = 1.0 # probability to do motor babbling during era 1\n",
      "P_MB_ERA2 = 0.0 # probability to do motor babbling during era 2\n",
      "\n",
      "ex_cfg            = explorers.MetaExplorer.defcfg._deepcopy()\n",
      "ex_cfg.m_channels = arm.m_channels\n",
      "ex_cfg.s_channels = arm.s_channels\n",
      "\n",
      "# two sub-explorer, motor babbling and goal babbling.\n",
      "ex_cfg.ex_0    = explorers.RandomMotorExplorer.defcfg._deepcopy()\n",
      "ex_cfg.ex_1    = explorers.RandomGoalExplorer.defcfg._deepcopy()\n",
      "# there are two eras, the first ends at step STEP_ERA1, the second one never ends.\n",
      "ex_cfg.eras    = (STEP_ERA1, None)\n",
      "# the weights determine how the probability to use ex_0 (motor babbling),\n",
      "# or ex_1 (goal babbling) during each era.\n",
      "ex_cfg.weights = ((P_MB_ERA1, 1.0 - P_MB_ERA1), \n",
      "                  (P_MB_ERA2, 1.0 - P_MB_ERA2))"
     ],
     "language": "python",
     "metadata": {},
     "outputs": []
    },
    {
     "cell_type": "markdown",
     "metadata": {},
     "source": [
      "The goal babbling explorer needs an inverse model. We use a very simple one. Given a goal (i.e. a sensory signal), we find the nearest sensory signal in recorded observations, and then add a small random perturbation to its corresponding motor command to create a new motor command that we return. \n",
      "\n",
      "Here the perturbation is drawn between 5% of the legal value range of the motor channels."
     ]
    },
    {
     "cell_type": "code",
     "collapsed": false,
     "input": [
      "import learners\n",
      "\n",
      "DISTURB = 0.05\n",
      "\n",
      "learn_cfg = learners.DisturbLearner.defcfg._deepcopy()\n",
      "learn_cfg.m_disturb = DISTURB\n",
      "ex_cfg.ex_1.learner = learn_cfg\n",
      "\n",
      "ex = explorers.Explorer.create(ex_cfg)"
     ],
     "language": "python",
     "metadata": {},
     "outputs": []
    },
    {
     "cell_type": "markdown",
     "metadata": {},
     "source": [
      "We run the exploration policy for 2000 steps"
     ]
    },
    {
     "cell_type": "code",
     "collapsed": false,
     "input": [
      "random.seed(0) # comment for different results\n",
      "N = 5000\n",
      "\n",
      "gb_s_signals = []\n",
      "for i in range(N):\n",
      "    exploration = ex.explore()\n",
      "    feedback    = arm.execute(exploration['m_signal'])\n",
      "    ex.receive(exploration, feedback)\n",
      "    gb_s_signals.append(feedback['s_signal'])"
     ],
     "language": "python",
     "metadata": {},
     "outputs": []
    },
    {
     "cell_type": "markdown",
     "metadata": {},
     "source": [
      "We show the scatter plot of the effects. Move the slider to increase the numbers of steps displayed. "
     ]
    },
    {
     "cell_type": "code",
     "collapsed": false,
     "input": [
      "xs = [s_signal['x'] for s_signal in gb_s_signals]\n",
      "ys = [s_signal['y'] for s_signal in gb_s_signals]\n",
      "\n",
      "def gb_plot(n=200):\n",
      "    plotting.figure(title='goal babbling, {} steps'.format(n))\n",
      "    plotting.scatter(xs[:n], ys[:n], \n",
      "                     x_range=[-1, 1], y_range=[-1, 1],\n",
      "                     fill_alpha= 0.5, line_color=None, radius=2.0, radius_units='screen')\n",
      "    plotting.show()\n"
     ],
     "language": "python",
     "metadata": {},
     "outputs": []
    },
    {
     "cell_type": "code",
     "collapsed": false,
     "input": [
      "widgets.interact(gb_plot, n=(0, 5000, 5))"
     ],
     "language": "python",
     "metadata": {},
     "outputs": []
    },
    {
     "cell_type": "heading",
     "level": 3,
     "metadata": {},
     "source": [
      "Interactive Plot for Goal Babbling"
     ]
    },
    {
     "cell_type": "markdown",
     "metadata": {},
     "source": [
      "Many parameters impacts the goal babbling strategy. The interactive plot below allows to test the impact of each parameters in real time. "
     ]
    },
    {
     "cell_type": "code",
     "collapsed": false,
     "input": [
      "dataset = {}\n",
      "last_config = {}\n",
      "\n",
      "def explore(SEED     =0,   # random seed\n",
      "            ARM_DIM  =20,  # number of joints of the arm \n",
      "            LIMIT    =150, # range of the joints\n",
      "            STEP_ERA1=50,   # lenght of the first era\n",
      "            P_MB_ERA1=1.0, # probability to do motor babbling during era 1\n",
      "            P_MB_ERA2=0.0,  # probability to do motor babbling during era 2\n",
      "            N        =5000 # total number of steps)\n",
      "           ):\n",
      "    # Not redoing the exploration unless we have to.\n",
      "    global last_config\n",
      "    random.seed(SEED)\n",
      "    \n",
      "    core_keys = ['SEED', 'ARM_DIM', 'LIMIT', 'STEP_ERA1', 'P_MB_ERA1', 'P_MB_ERA2', 'N']\n",
      "    config = {'SEED': SEED, 'ARM_DIM': ARM_DIM, 'LIMIT': LIMIT, 'STEP_ERA1': STEP_ERA1,\n",
      "              'P_MB_ERA1': P_MB_ERA1, 'P_MB_ERA2': P_MB_ERA2, 'N': N}\n",
      "    if (config.keys() == last_config.keys() and \n",
      "        all(config[k] == last_config[k] for k in core_keys) and\n",
      "        config['N'] <= last_config['N']):\n",
      "        return\n",
      "    else:\n",
      "        last_config = config\n",
      "     \n",
      "    # Arm environment\n",
      "    arm_cfg = environments.envs.KinematicArm2D.defcfg._deepcopy()\n",
      "    arm_cfg.dim     = ARM_DIM\n",
      "    arm_cfg.lengths = 1.0/arm_cfg.dim\n",
      "    arm_cfg.limits  = (-LIMIT, LIMIT)\n",
      "    arm = environments.Environment.create(arm_cfg)\n",
      "    \n",
      "    # Explorer Config\n",
      "    ex_cfg            = explorers.MetaExplorer.defcfg._deepcopy()\n",
      "    ex_cfg.m_channels = arm.m_channels\n",
      "    ex_cfg.s_channels = arm.s_channels\n",
      "\n",
      "    ex_cfg.ex_0    = explorers.RandomMotorExplorer.defcfg._deepcopy()\n",
      "    ex_cfg.ex_1    = explorers.RandomGoalExplorer.defcfg._deepcopy()\n",
      "    ex_cfg.eras    = (STEP_ERA1, None)\n",
      "    ex_cfg.weights = ((P_MB_ERA1, 1.0 - P_MB_ERA1), \n",
      "                      (P_MB_ERA2, 1.0 - P_MB_ERA2))\n",
      "\n",
      "    # Learner Config\n",
      "    learn_cfg = learners.DisturbLearner.defcfg._deepcopy()\n",
      "    learn_cfg.m_disturb = DISTURB\n",
      "    ex_cfg.ex_1.learner = learn_cfg\n",
      "\n",
      "    ex = explorers.Explorer.create(ex_cfg)\n",
      "    \n",
      "    \n",
      "    history = []\n",
      "    for i in range(N):\n",
      "        exploration = ex.explore()\n",
      "        feedback    = arm.execute(exploration['m_signal'])\n",
      "        ex.receive(exploration, feedback)\n",
      "        history.append((exploration, feedback))\n",
      "\n",
      "    dataset['m_channels']   = ex.m_channels\n",
      "    dataset['s_channels']   = ex.s_channels\n",
      "    dataset['explorations'] = history\n",
      "\n",
      "def plot_interact(SEED       =0,    # random seed\n",
      "                  ARM_DIM    =20,   # number of joint of the arm \n",
      "                  LIMIT      =150,  # range of the joints\n",
      "                  STEP_ERA1  =50,   # lenght of the first era\n",
      "                  P_MB_ERA1  =1.0,  # probability to do motor babbling during era 1\n",
      "                  P_MB_ERA2  =0.0,  # probability to do motor babbling during era 2\n",
      "                  N          =1000, # total number of steps)\n",
      "                  n_displayed=1000   # step displayed\n",
      "                 ):\n",
      "    explore(SEED=SEED, ARM_DIM=ARM_DIM, LIMIT=LIMIT, STEP_ERA1=STEP_ERA1,\n",
      "            P_MB_ERA1=P_MB_ERA1, P_MB_ERA2=P_MB_ERA2, N=N)\n",
      "            \n",
      "    xs = [e[1]['s_signal']['x'] for e in dataset['explorations']]\n",
      "    ys = [e[1]['s_signal']['y'] for e in dataset['explorations']]\n",
      "\n",
      "    n = min(n_displayed, N)\n",
      "    plotting.figure(title='{} steps'.format(n))\n",
      "    plotting.scatter(xs[:n], ys[:n],\n",
      "                     x_range=[-1, 1], y_range=[-1, 1],\n",
      "                     fill_alpha= 0.5, line_color=None, radius=2.0, radius_units='screen')\n",
      "    plotting.show()\n"
     ],
     "language": "python",
     "metadata": {},
     "outputs": []
    },
    {
     "cell_type": "code",
     "collapsed": false,
     "input": [
      "widgets.interact(plot_interact, SEED=(0, 100, 1), ARM_DIM=(1, 50), LIMIT=(5, 180, 5), STEP_ERA1=(0, 1000, 10), P_MB_ERA1=(0.0, 1.0, 0.05), P_MB_ERA2=(0.0, 1.0, 0.05), N=(0, 5000, 100), n_displayed=(0, 5000, 5))"
     ],
     "language": "python",
     "metadata": {},
     "outputs": []
    }
   ],
   "metadata": {}
  }
 ]
}